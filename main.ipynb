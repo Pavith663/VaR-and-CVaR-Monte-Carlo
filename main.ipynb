{
 "cells": [
  {
   "cell_type": "markdown",
   "id": "5e364fc8",
   "metadata": {},
   "source": [
    "# Import all modules"
   ]
  },
  {
   "cell_type": "code",
   "execution_count": 1,
   "id": "c6613a21",
   "metadata": {},
   "outputs": [],
   "source": [
    "import numpy as np\n",
    "import pandas as pd\n",
    "import datetime as dt\n",
    "import yfinance as yf\n",
    "from matplotlib import pyplot as plt\n",
    "\n",
    "# Set no of years\n",
    "\n",
    "years = 15\n",
    "\n",
    "endDate = dt.datetime.now()\n",
    "startDate = endDate - dt.timedelta(days=365*years)\n",
    "\n",
    "# Tickers we want to incorporate in our portfolio\n",
    "tickers = ['SPY', 'BND', 'GLD', 'QQQ', 'VTI']\n",
    "\n",
    "# Create an empty df to store all close prices from yahoo finance \n",
    "close_df = pd.DataFrame()\n",
    "\n"
   ]
  },
  {
   "cell_type": "markdown",
   "id": "a3bad5c3",
   "metadata": {},
   "source": [
    "# Download all tickers data from yahoo finance and add it to the empty dataframe created above"
   ]
  },
  {
   "cell_type": "code",
   "execution_count": 2,
   "id": "cede3c45",
   "metadata": {},
   "outputs": [
    {
     "name": "stdout",
     "output_type": "stream",
     "text": [
      "YF.download() has changed argument auto_adjust default to True\n"
     ]
    },
    {
     "name": "stderr",
     "output_type": "stream",
     "text": [
      "[*********************100%***********************]  1 of 1 completed\n",
      "[*********************100%***********************]  1 of 1 completed\n",
      "[*********************100%***********************]  1 of 1 completed\n",
      "[*********************100%***********************]  1 of 1 completed\n",
      "[*********************100%***********************]  1 of 1 completed\n"
     ]
    }
   ],
   "source": [
    "for ticker in tickers:\n",
    "    data = yf.download(ticker, start= startDate, end = endDate)\n",
    "    close_df[ticker] = data['Close']\n",
    "\n"
   ]
  },
  {
   "cell_type": "markdown",
   "id": "3e395a85",
   "metadata": {},
   "source": [
    "# Compute Log Returns "
   ]
  },
  {
   "cell_type": "code",
   "execution_count": 3,
   "id": "d840e055",
   "metadata": {},
   "outputs": [],
   "source": [
    "log_returns = np.log(close_df/close_df.shift(1))\n",
    "log_returns = log_returns.dropna()\n"
   ]
  },
  {
   "cell_type": "markdown",
   "id": "cc3e282e",
   "metadata": {},
   "source": [
    "# Create a fn to calc Portfolio Expected Return"
   ]
  },
  {
   "cell_type": "code",
   "execution_count": 4,
   "id": "76b63d07",
   "metadata": {},
   "outputs": [],
   "source": [
    "def expected_return(weights, log_returns):\n",
    "    return np.sum(log_returns.mean()*weights)"
   ]
  },
  {
   "cell_type": "markdown",
   "id": "ad961bf6",
   "metadata": {},
   "source": [
    "# Create a fn to calc Portfolio Stdev"
   ]
  },
  {
   "cell_type": "code",
   "execution_count": 5,
   "id": "3638f534",
   "metadata": {},
   "outputs": [],
   "source": [
    "def standard_deviation(weights, cov_matrix):\n",
    "    variance = weights.T @ cov_matrix @ weights\n",
    "    return np.sqrt(variance)"
   ]
  },
  {
   "cell_type": "markdown",
   "id": "79ba4cc5",
   "metadata": {},
   "source": [
    "# Create a covariance matrix for all the securities"
   ]
  },
  {
   "cell_type": "code",
   "execution_count": 6,
   "id": "78763f17",
   "metadata": {},
   "outputs": [
    {
     "name": "stdout",
     "output_type": "stream",
     "text": [
      "              SPY           BND       GLD       QQQ           VTI\n",
      "SPY  1.215912e-04  4.425425e-07  0.000005  0.000136  1.238975e-04\n",
      "BND  4.425425e-07  9.531347e-06  0.000009  0.000001  6.367490e-07\n",
      "GLD  5.403966e-06  9.026279e-06  0.000096  0.000007  5.939923e-06\n",
      "QQQ  1.357196e-04  1.254335e-06  0.000007  0.000174  1.383198e-04\n",
      "VTI  1.238975e-04  6.367490e-07  0.000006  0.000138  1.272357e-04\n"
     ]
    }
   ],
   "source": [
    "cov_matrix = log_returns.cov()\n",
    "print(cov_matrix)"
   ]
  },
  {
   "cell_type": "markdown",
   "id": "58a07a27",
   "metadata": {},
   "source": [
    "# Create an equally weighted portofolio and find total portfolio expected return"
   ]
  },
  {
   "cell_type": "code",
   "execution_count": 7,
   "id": "abc6961f",
   "metadata": {},
   "outputs": [
    {
     "name": "stdout",
     "output_type": "stream",
     "text": [
      "0.00038996416711628264\n"
     ]
    }
   ],
   "source": [
    "portfolio_value = 1000000\n",
    "weights = np.array([1/len(tickers)]*len(tickers))\n",
    "portolio_expected_return = expected_return(weights, log_returns)\n",
    "portfolio_std_dev = standard_deviation(weights, cov_matrix)\n",
    "\n",
    "print(portolio_expected_return)\n"
   ]
  },
  {
   "cell_type": "markdown",
   "id": "673fbf90",
   "metadata": {},
   "source": [
    "# Create a function to that gives a random Z-score based on normal dist. \n",
    "We do this because we'll be doing 10000 simulations, and each simulation will generate a random z score."
   ]
  },
  {
   "cell_type": "code",
   "execution_count": 8,
   "id": "25c6e1f9",
   "metadata": {},
   "outputs": [],
   "source": [
    "def random_z_score():\n",
    "    return np.random.normal(0,1)"
   ]
  },
  {
   "cell_type": "markdown",
   "id": "37acf92d",
   "metadata": {},
   "source": [
    "# Create a function to calculate Scenario Gain Loss"
   ]
  },
  {
   "cell_type": "code",
   "execution_count": 9,
   "id": "5672ceb5",
   "metadata": {},
   "outputs": [],
   "source": [
    "days = 30  # After n days, what is the VaR, for a given confidence interval?\n",
    "\n",
    "def scenario_gain_loss(portfolio_value, portfolio_std_dev, z_score, days):\n",
    "    return (portfolio_value * portolio_expected_return * days) + (portfolio_value * portfolio_std_dev * z_score * np.sqrt(days))  # First bracket captures portfolio return and 2nd bracket captures portfolio volatility.\n",
    "                                                                                                                                # Since we're using z-score, 2nd bracket can be positive or negative "
   ]
  },
  {
   "cell_type": "markdown",
   "id": "8478203f",
   "metadata": {},
   "source": [
    "# Run 10000 simulations"
   ]
  },
  {
   "cell_type": "code",
   "execution_count": 10,
   "id": "75965c86",
   "metadata": {},
   "outputs": [],
   "source": [
    "simulations = 10000\n",
    "scenarioReturn = []\n",
    "\n",
    "for i in range(simulations):\n",
    "    z_score = random_z_score()\n",
    "    scenarioReturn.append(scenario_gain_loss(portfolio_value, portfolio_std_dev, z_score, days))"
   ]
  },
  {
   "cell_type": "markdown",
   "id": "c1ec4b2a",
   "metadata": {},
   "source": [
    "# Specify a confidence interval and calculate the Value at Risk "
   ]
  },
  {
   "cell_type": "code",
   "execution_count": 11,
   "id": "b2b936d5",
   "metadata": {},
   "outputs": [
    {
     "name": "stdout",
     "output_type": "stream",
     "text": [
      "81274.51331341105\n",
      "8.13%\n"
     ]
    }
   ],
   "source": [
    "confidence_interval = 0.99\n",
    "VaR = - np.percentile(scenarioReturn, 100*(1-confidence_interval))\n",
    "print(VaR)\n",
    "print(f\"{(VaR/portfolio_value):.2%}\")"
   ]
  },
  {
   "cell_type": "markdown",
   "id": "2ba37bb1",
   "metadata": {},
   "source": [
    "# Plot the results of all 10000 scenarios"
   ]
  },
  {
   "cell_type": "code",
   "execution_count": 12,
   "id": "53b04c20",
   "metadata": {},
   "outputs": [
    {
     "data": {
      "image/png": "[encoded data removed]",
      "text/plain": [
       "<Figure size 640x480 with 1 Axes>"
      ]
     },
     "metadata": {},
     "output_type": "display_data"
    }
   ],
   "source": [
    "plt.hist(scenarioReturn, bins=50, density=True)\n",
    "plt.xlabel('Scenario Gain/Loss (£)')\n",
    "plt.ylabel('Frequency')\n",
    "plt.title(f'Distribution of Portfolio Gain/Loss over {days} Days')\n",
    "plt.axvline(-VaR, color='r', linestyle='dashed', label=f'VaR at {confidence_interval:.0%} confidence level')\n",
    "plt.legend()\n",
    "plt.show()"
   ]
  },
  {
   "cell_type": "markdown",
   "id": "a792066b",
   "metadata": {},
   "source": [
    "# CVAR "
   ]
  },
  {
   "cell_type": "code",
   "execution_count": 13,
   "id": "4787e288",
   "metadata": {},
   "outputs": [
    {
     "name": "stdout",
     "output_type": "stream",
     "text": [
      "95716.60061026998\n"
     ]
    }
   ],
   "source": [
    "def calculate_cvar(scenarioReturn, confidence_level=0.95):\n",
    "\n",
    "    # Convert to numpy array for easier manipulation\n",
    "    losses = np.array(scenarioReturn)\n",
    "    \n",
    "    # Sort the losses in ascending order (most negative first)\n",
    "    sorted_losses = np.sort(losses)\n",
    "    \n",
    "    # Calculate the index for the confidence level\n",
    "    var_index = int((1 - confidence_level) * len(sorted_losses))\n",
    "    \n",
    "    # Calculate CVaR as the average of the worst losses\n",
    "    cvar = -np.mean(sorted_losses[:var_index])\n",
    "    \n",
    "    return cvar\n",
    "\n",
    "cVaR = calculate_cvar(scenarioReturn, confidence_level=confidence_interval)\n",
    "print(cVaR)"
   ]
  },
  {
   "cell_type": "code",
   "execution_count": 14,
   "id": "052969f0",
   "metadata": {},
   "outputs": [
    {
     "data": {
      "image/png": "[encoded data removed]",
      "text/plain": [
       "<Figure size 640x480 with 1 Axes>"
      ]
     },
     "metadata": {},
     "output_type": "display_data"
    }
   ],
   "source": [
    "plt.hist(scenarioReturn, bins=50, density=True)\n",
    "plt.xlabel('Scenario Gain/Loss (£)')\n",
    "plt.ylabel('Frequency')\n",
    "plt.title(f'Distribution of Portfolio Gain/Loss over {days} Days')\n",
    "plt.axvline(-cVaR, color='r', linestyle='dashed', label=f'cVaR at {confidence_interval:.0%} confidence level')\n",
    "plt.legend()\n",
    "plt.show()"
   ]
  }
 ],
 "metadata": {
  "kernelspec": {
   "display_name": "venv",
   "language": "python",
   "name": "python3"
  },
  "language_info": {
   "codemirror_mode": {
    "name": "ipython",
    "version": 3
   },
   "file_extension": ".py",
   "mimetype": "text/x-python",
   "name": "python",
   "nbconvert_exporter": "python",
   "pygments_lexer": "ipython3",
   "version": "3.12.8"
  }
 },
 "nbformat": 4,
 "nbformat_minor": 5
}
